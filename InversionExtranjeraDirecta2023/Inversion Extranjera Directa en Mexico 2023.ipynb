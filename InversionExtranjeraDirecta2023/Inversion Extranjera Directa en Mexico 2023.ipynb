{
 "cells": [
  {
   "cell_type": "markdown",
   "id": "25208380",
   "metadata": {},
   "source": [
    "# Introduccion "
   ]
  },
  {
   "cell_type": "markdown",
   "id": "ff67db28",
   "metadata": {},
   "source": [
    "Mexico presenta una serie de oportunidades sin presedentes en materia de inversion extranjera directa en el pais. Con sectores establecidos y liderados a nivel mundial como en la mineria, la industria del turismo, y el sector energetico. Y sectores emergentes en Tecnologias de la informacion, construccion y servicios.\n",
    "\n",
    "\n",
    "Es por estas razones que la economia Mexicana esta creciendo a un ritmo acelerado y cada vez mas, las empresas extranjeras estan considerando a Mexico como una oporunidad de inversion. A pesar de las situaciones que hacen considerar a los inversionistas extranjeros como lo pueden ser la delincuencia organizada y desconfianza en las instituciones publicas, los inversionistas extranjeros observan en Mexico una oportunidad para sus portafolios de inversion. Y las empresas extranjeras ven la oportunidad de altas utilidades, mano de obra capacitada de menor precio y recursos naturales en Mexico. De esta manera creando una relacion simbiotica entre los inversionistas extranjeros y nacionales, proporcionando a la poblacion Mexicana mejores oportunidades laborales"
   ]
  },
  {
   "cell_type": "markdown",
   "id": "4b4f1bbb",
   "metadata": {},
   "source": [
    "## Problema a tratar"
   ]
  },
  {
   "cell_type": "markdown",
   "id": "d9a1b46c",
   "metadata": {},
   "source": [
    "El analisis y conocimiento de la inversion extranjera directa en Mexico permite:\n",
    "\n",
    "1.  Al estado Mexicano en establecer relaciones diplomaticas relevantes con los Estados extranjeros partiendo de las necesidades e incentivos mutuos.\n",
    "\n",
    "2. A las empresas mexicanas mantenerse precavidas de la creacion y crecimiento de nuevas empresas extranjeras, fomentando al sector privado mexicano en crear diferenciadores que les permitan competir con las empresas extranjeras\n",
    "\n",
    "3. A las entidades federativas de Mexico en crear mejores condiciones economicas, educativas y sociales que atraigan la inversion extranjera directa.\n",
    "\n",
    "4. A las organizaciones educativas en crear programas educativos enfocados a nivel estatal y federal que se adapten a las tendencias de los sectores mas atractivos para la inversion\n",
    "\n",
    "5. A inversionistas nacionales y extranjeros en optimizar sus portafolios de inversion, seleccionando las entidades federativas y sectores en crecimiento en Mexico."
   ]
  },
  {
   "cell_type": "markdown",
   "id": "523941b6",
   "metadata": {},
   "source": [
    "# Marco Teorico"
   ]
  },
  {
   "cell_type": "markdown",
   "id": "00203bec",
   "metadata": {},
   "source": []
  },
  {
   "cell_type": "markdown",
   "id": "b0c06e86",
   "metadata": {},
   "source": [
    "# Analisis de Datos"
   ]
  },
  {
   "cell_type": "markdown",
   "id": "6f7e5bfd",
   "metadata": {},
   "source": [
    "## Carga de Datos"
   ]
  },
  {
   "cell_type": "code",
   "execution_count": 6,
   "id": "2c1dcea9",
   "metadata": {},
   "outputs": [],
   "source": [
    "# importar librerias de analisis de datos\n",
    "\n",
    "import pandas as pd\n",
    "import numpy as np\n",
    "from matplotlib import pyplot"
   ]
  },
  {
   "cell_type": "code",
   "execution_count": null,
   "id": "c03d2303",
   "metadata": {
    "collapsed": true
   },
   "outputs": [],
   "source": [
    "# Inversion Directa por Entidad Federativa\n",
    "\n",
    "IED_Entidad = pd.read_csv('IED\\IED-Entidad.csv', sep = ',')\n",
    "IED_Entidad.head()"
   ]
  },
  {
   "cell_type": "code",
   "execution_count": null,
   "id": "d32ea09c",
   "metadata": {},
   "outputs": [],
   "source": [
    "# Inversion Directa como % del PIB\n",
    "\n",
    "IED_PIB = pd.read_csv('IED\\IED-PIB.csv', sep = ',')\n",
    "IED_PIB.head()"
   ]
  },
  {
   "cell_type": "code",
   "execution_count": null,
   "id": "49c7c5bf",
   "metadata": {},
   "outputs": [],
   "source": [
    "# Inversion Directa como % del PIB\n",
    "\n",
    "IED_Historico = pd.read_csv('IED\\IED-Pais1990-2023.csv', sep = ',')\n",
    "IED_Historico.head()"
   ]
  },
  {
   "cell_type": "code",
   "execution_count": null,
   "id": "c1fd07f1",
   "metadata": {},
   "outputs": [],
   "source": [
    "# Inversion Directa por sector directo\n",
    "\n",
    "IED_Sector = pd.read_csv('IED\\IED-SECTOR.csv', sep = ',')\n",
    "IED_Sector.head()"
   ]
  },
  {
   "cell_type": "code",
   "execution_count": null,
   "id": "ac6d0d08",
   "metadata": {},
   "outputs": [],
   "source": [
    "# Inversion Directa por sector y subsector directo\n",
    "\n",
    "IED_Subsector = pd.read_csv('IED\\IED-SubsectorFinal.csv', sep = ',')\n",
    "IED_Subsector.head()"
   ]
  },
  {
   "cell_type": "code",
   "execution_count": null,
   "id": "0d7d20b4",
   "metadata": {},
   "outputs": [],
   "source": [
    "# Inversion Directa por sector, subsector, y rama\n",
    "\n",
    "IED_Rama = pd.read_csv('IED\\IED-RAMA.csv', sep = ',')\n",
    "IED_Rama.head()"
   ]
  },
  {
   "cell_type": "code",
   "execution_count": null,
   "id": "6f6de6c3",
   "metadata": {},
   "outputs": [],
   "source": [
    "# Inversion Directa por entidad federativa y pais inversor\n",
    "\n",
    "IED_Pais_Entidad = pd.read_csv('IED\\IED-Pais-Entidad.csv', sep = ',')\n",
    "IED_Pais_Entidad.head()"
   ]
  },
  {
   "cell_type": "code",
   "execution_count": null,
   "id": "32279dea",
   "metadata": {},
   "outputs": [],
   "source": [
    "# Cantidad de empresas por entidad federativa\n",
    "\n",
    "IED_Empresas_Entidad = pd.read_csv('IED\\IED-Empresas-Entidad.csv', sep = ',')\n",
    "IED_Empresas_Entidad.head()"
   ]
  },
  {
   "cell_type": "code",
   "execution_count": null,
   "id": "fcd87f59",
   "metadata": {},
   "outputs": [],
   "source": [
    "# Cantidad de empresas extranjeras por pais de origen Total\n",
    "\n",
    "IED_Empresas_Origen = pd.read_csv('IED\\IED-EmpresasPais.csv', sep = ',')\n",
    "IED_Empresas_Origen.head()"
   ]
  },
  {
   "cell_type": "code",
   "execution_count": null,
   "id": "f3fc1bd0",
   "metadata": {},
   "outputs": [],
   "source": [
    "# Cantidad de empresas extranjeras por pais de origen Historico\n",
    "\n",
    "IED_Empresas_Origen = pd.read_csv('IED\\IED-Empresas-Origen.csv', sep = ',')\n",
    "IED_Empresas_Origen.head()"
   ]
  },
  {
   "cell_type": "code",
   "execution_count": null,
   "id": "acff4c52",
   "metadata": {},
   "outputs": [],
   "source": [
    "# Cantidad de empresas extranjeras por sector\n",
    "\n",
    "IED_Empresas_Sector = pd.read_csv('IED\\IED-Empresas-Sector.csv', sep = ',')\n",
    "IED_Empresas_Sector.head()"
   ]
  },
  {
   "cell_type": "code",
   "execution_count": null,
   "id": "6d644ee8",
   "metadata": {},
   "outputs": [],
   "source": [
    "# Inversion Extranjera Directa de Estados Unidos\n",
    "\n",
    "IED_USA = pd.read_csv('IED\\IED_EUA.csv', sep = ',')\n",
    "IED_EUA.head()"
   ]
  },
  {
   "cell_type": "code",
   "execution_count": null,
   "id": "49043154",
   "metadata": {},
   "outputs": [],
   "source": [
    "# Inversion Extranjera Directa de Alemania\n",
    "\n",
    "IED_GER = pd.read_csv('IED\\IED-Alemania.csv', sep = ',')\n",
    "IED_GER.head()"
   ]
  },
  {
   "cell_type": "code",
   "execution_count": null,
   "id": "e1f39270",
   "metadata": {},
   "outputs": [],
   "source": [
    "# Inversion Extranjera Directa de Canada\n",
    "\n",
    "IED_CAN = pd.read_csv('IED\\IED-Canada-Sector.csv', sep = ',')\n",
    "IED_CAN.head()"
   ]
  },
  {
   "cell_type": "code",
   "execution_count": null,
   "id": "69af6e4b",
   "metadata": {},
   "outputs": [],
   "source": [
    "# Inversion Extranjera Directa de Espana\n",
    "\n",
    "IED_SPA = pd.read_csv('IED\\IED-Espana-Sector.csv', sep = ',')\n",
    "IED_SPA.head()"
   ]
  },
  {
   "cell_type": "code",
   "execution_count": null,
   "id": "09b924c1",
   "metadata": {},
   "outputs": [],
   "source": [
    "# Inversion Extranjera Directa de Japon\n",
    "\n",
    "IED_JAP = pd.read_csv('IED\\IED-Japon-Sector.csv', sep = ',')\n",
    "IED_JAP.head()"
   ]
  },
  {
   "cell_type": "markdown",
   "id": "60c48ab8",
   "metadata": {},
   "source": [
    "# Bibliografia"
   ]
  },
  {
   "cell_type": "markdown",
   "id": "c95918ea",
   "metadata": {},
   "source": [
    "1.   Información estadística general de flujos de IED hacia México desde 2006, Secretaría de Economía, https://datos.gob.mx/busca/dataset/informacion-estadistica-de-la-inversion-extranjera-directa/resource/670690f1-39d1-4068-ac14-65f008d26e56, 2023-07-12\n",
    "2.   Número de empresas que presentaron flujos de IED hacia México desde 2006, Secretaría de Economía,https://datos.gob.mx/busca/dataset/informacion-estadistica-de-la-inversion-extranjera-directa/resource/3af8722e-6d99-4539-bddc-89d7b2b74ace, 2023-07-12\n",
    "3. IED como porcentaje de la formación bruta de capital fijo desde 2006, Secretaría de Economía, https://datos.gob.mx/busca/dataset/informacion-estadistica-de-la-inversion-extranjera-directa/resource/51a924df-78cd-47f1-ae3b-2035339be380, 2023-07-12\n",
    "4. Información estadística de flujos de IED hacia México por país de origen desde 2006, Secretaría de Economía, https://datos.gob.mx/busca/dataset/informacion-estadistica-de-la-inversion-extranjera-directa/resource/4f68c5b7-98bc-423a-b4d6-9128bc9e735b, 2023-07-12\n",
    "5. Información estadística histórica de los flujos de IED hacia México por país de origen de 1980 a 2005, Secretaría de Economía, https://datos.gob.mx/busca/dataset/informacion-estadistica-de-la-inversion-extranjera-directa/resource/0196e68f-bb0b-46de-90ff-77bcfa5c9bb3, 2023-07-12\n"
   ]
  }
 ],
 "metadata": {
  "kernelspec": {
   "display_name": "Python 3",
   "language": "python",
   "name": "python3"
  },
  "language_info": {
   "codemirror_mode": {
    "name": "ipython",
    "version": 3
   },
   "file_extension": ".py",
   "mimetype": "text/x-python",
   "name": "python",
   "nbconvert_exporter": "python",
   "pygments_lexer": "ipython3",
   "version": "3.8.8"
  }
 },
 "nbformat": 4,
 "nbformat_minor": 5
}
